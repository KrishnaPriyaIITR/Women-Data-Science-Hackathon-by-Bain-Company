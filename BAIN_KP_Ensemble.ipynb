{
 "cells": [
  {
   "cell_type": "code",
   "execution_count": 3,
   "metadata": {},
   "outputs": [],
   "source": [
    "import pandas as pd\n",
    "import numpy as np"
   ]
  },
  {
   "cell_type": "code",
   "execution_count": 4,
   "metadata": {},
   "outputs": [],
   "source": [
    "submission = pd.read_csv(\"sample_submission_pn2DrMq.csv\")\n",
    "xgb=pd.read_csv('xgb_V18.csv') # 113.28\n",
    "gb=pd.read_csv('gb_V18.csv') # 113.69\n",
    "rf=pd.read_csv('rf_V18.csv') # 113.73\n",
    "et=pd.read_csv('et_V18.csv') # 112.13\n",
    "# stack=pd.read_csv('stack_V18.csv')\n",
    "final=pd.DataFrame()\n",
    "final['ID'] = submission['ID']\n",
    "final['Sales'] = (xgb['Sales']+gb['Sales']+rf['Sales']+et['Sales'])/4\n",
    "final['Sales'] = np.clip(final['Sales'], 0, final['Sales'].max())\n",
    "final.to_csv('bain_kp_ensemble.csv', index=False) # 109.11"
   ]
  },
  {
   "cell_type": "code",
   "execution_count": null,
   "metadata": {},
   "outputs": [],
   "source": []
  }
 ],
 "metadata": {
  "kernelspec": {
   "display_name": "Python 3",
   "language": "python",
   "name": "python3"
  },
  "language_info": {
   "codemirror_mode": {
    "name": "ipython",
    "version": 3
   },
   "file_extension": ".py",
   "mimetype": "text/x-python",
   "name": "python",
   "nbconvert_exporter": "python",
   "pygments_lexer": "ipython3",
   "version": "3.7.3"
  }
 },
 "nbformat": 4,
 "nbformat_minor": 2
}
